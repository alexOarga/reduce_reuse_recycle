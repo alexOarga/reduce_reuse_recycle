{
  "nbformat": 4,
  "nbformat_minor": 0,
  "metadata": {
    "colab": {
      "provenance": [],
      "gpuType": "T4"
    },
    "kernelspec": {
      "name": "python3",
      "display_name": "Python 3"
    },
    "language_info": {
      "name": "python"
    },
    "accelerator": "GPU"
  },
  "cells": [
    {
      "cell_type": "code",
      "execution_count": 1,
      "metadata": {
        "colab": {
          "base_uri": "https://localhost:8080/"
        },
        "id": "9fdncEjpxnZP",
        "outputId": "bf35092a-a6b4-4a75-d623-d178f01ac0db"
      },
      "outputs": [
        {
          "output_type": "stream",
          "name": "stdout",
          "text": [
            "Cloning into 'reduce_reuse_recycle'...\n",
            "remote: Enumerating objects: 93, done.\u001b[K\n",
            "remote: Counting objects: 100% (93/93), done.\u001b[K\n",
            "remote: Compressing objects: 100% (79/79), done.\u001b[K\n",
            "remote: Total 93 (delta 21), reused 70 (delta 10), pack-reused 0\u001b[K\n",
            "Unpacking objects: 100% (93/93), 2.64 MiB | 9.22 MiB/s, done.\n"
          ]
        }
      ],
      "source": [
        "!git clone https://github.com/yilundu/reduce_reuse_recycle.git\n",
        "%cd reduce_reuse_recycle"
      ]
    },
    {
      "cell_type": "markdown",
      "source": [
        "Download the checkpoint trained on \"Cubes\", \"Spheres\" and \"Cylinder\" Shapes"
      ],
      "metadata": {
        "id": "eXjf4aYjSDmB"
      }
    },
    {
      "cell_type": "code",
      "source": [
        "!gdown https://drive.google.com/uc?id=19ay4bLVCQho8_aXtODWbDCpu6L2l58YB"
      ],
      "metadata": {
        "colab": {
          "base_uri": "https://localhost:8080/"
        },
        "id": "_3EiDcdv2MgD",
        "outputId": "36358ef9-fb66-4c4d-ff04-818cd4cba3bf"
      },
      "execution_count": 3,
      "outputs": [
        {
          "output_type": "stream",
          "name": "stdout",
          "text": [
            "Downloading...\n",
            "From: https://drive.google.com/uc?id=19ay4bLVCQho8_aXtODWbDCpu6L2l58YB\n",
            "To: /content/reduce_reuse_recycle/ebm-49x1874.pt\n",
            "100% 501M/501M [00:09<00:00, 53.8MB/s]\n"
          ]
        }
      ]
    },
    {
      "cell_type": "code",
      "source": [
        "!python inf_sample.py --sampler Rev_Diff --ckpt_path \"ebm-49x1874.pt\""
      ],
      "metadata": {
        "colab": {
          "base_uri": "https://localhost:8080/"
        },
        "id": "L2qvHYAl1GQf",
        "outputId": "30e8ecfd-a486-4fae-c382-c017c75401d5"
      },
      "execution_count": 8,
      "outputs": [
        {
          "output_type": "stream",
          "name": "stdout",
          "text": [
            "Using energy mode\n",
            "A cube\n",
            "A cylinder\n",
            "tensor([[[0],\n",
            "         [2]]])\n",
            "torch.Size([1, 2, 1])\n",
            "tensor([[0],\n",
            "        [2],\n",
            "        [0]])\n",
            "[True, True, False]\n",
            "torch.Size([3, 1])\n",
            "Using Reverse Diffusion Sampling only\n",
            "Using Sampler:  Rev_Diff\n",
            "100% 100/100 [00:19<00:00,  5.08it/s]\n",
            "100% 100/100 [00:20<00:00,  4.98it/s]\n",
            "100% 100/100 [00:18<00:00,  5.37it/s]\n",
            "100% 100/100 [00:18<00:00,  5.35it/s]\n"
          ]
        }
      ]
    },
    {
      "cell_type": "code",
      "source": [
        "!python inf_sample.py --sampler ULA --ckpt_path \"ebm-49x1874.pt\""
      ],
      "metadata": {
        "colab": {
          "base_uri": "https://localhost:8080/"
        },
        "id": "e5CBAUSx2ViU",
        "outputId": "595c1cd4-327c-4df3-f63a-e04d9143ed3d"
      },
      "execution_count": 12,
      "outputs": [
        {
          "output_type": "stream",
          "name": "stdout",
          "text": [
            "Using energy mode\n",
            "A sphere\n",
            "A cylinder\n",
            "tensor([[[1],\n",
            "         [2]]])\n",
            "torch.Size([1, 2, 1])\n",
            "tensor([[1],\n",
            "        [2],\n",
            "        [0]])\n",
            "[True, True, False]\n",
            "torch.Size([3, 1])\n",
            "Using Sampler:  ULA\n",
            "100% 100/100 [03:20<00:00,  2.00s/it]\n",
            "100% 100/100 [03:19<00:00,  2.00s/it]\n",
            "100% 100/100 [03:20<00:00,  2.00s/it]\n",
            "100% 100/100 [03:19<00:00,  2.00s/it]\n"
          ]
        }
      ]
    },
    {
      "cell_type": "code",
      "source": [],
      "metadata": {
        "id": "ZEu_wpLP9Kiv"
      },
      "execution_count": null,
      "outputs": []
    }
  ]
}